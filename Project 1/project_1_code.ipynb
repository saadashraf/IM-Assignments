{
  "nbformat": 4,
  "nbformat_minor": 0,
  "metadata": {
    "colab": {
      "name": "test.ipynb",
      "provenance": []
    },
    "kernelspec": {
      "display_name": "Python 3.8.5 64-bit",
      "name": "python385jvsc74a57bd0c177688073e7c0f85b2f31face8c565e5bd240c87fab0750ec1ce1d1adce7f2f"
    },
    "language_info": {
      "codemirror_mode": {
        "name": "ipython",
        "version": 3
      },
      "file_extension": ".py",
      "mimetype": "text/x-python",
      "name": "python",
      "nbconvert_exporter": "python",
      "pygments_lexer": "ipython3",
      "version": "3.8.5"
    }
  },
  "cells": [
    {
      "cell_type": "code",
      "metadata": {
        "id": "KEAodDAWhkZY"
      },
      "source": [
        "#Imports"
      ],
      "execution_count": 1,
      "outputs": []
    },
    {
      "cell_type": "code",
      "metadata": {
        "colab": {
          "base_uri": "https://localhost:8080/"
        },
        "id": "YQKV44m7hkZe",
        "outputId": "60b5403b-3c49-4f31-f574-062c6d53e7bd"
      },
      "source": [
        "import numpy as np\n",
        "import pandas as pd\n",
        "import seaborn as sns\n",
        "import matplotlib.pyplot as plt\n",
        "from sklearn.compose import ColumnTransformer\n",
        "from sklearn.preprocessing import OneHotEncoder\n",
        "from sklearn.preprocessing import LabelEncoder\n",
        "from sklearn.preprocessing import OrdinalEncoder\n",
        "from sklearn.impute import SimpleImputer\n",
        "from sklearn.pipeline import Pipeline\n",
        "from sklearn.preprocessing import StandardScaler\n",
        "from sklearn.model_selection import train_test_split\n",
        "from imblearn import over_sampling, under_sampling\n",
        "from imblearn.pipeline import Pipeline\n",
        "from xgboost import XGBClassifier\n",
        "from sklearn.metrics import accuracy_score, f1_score, roc_auc_score"
      ],
      "execution_count": 2,
      "outputs": [
        {
          "output_type": "stream",
          "text": [
            "/usr/local/lib/python3.7/dist-packages/sklearn/externals/six.py:31: FutureWarning: The module is deprecated in version 0.21 and will be removed in version 0.23 since we've dropped support for Python 2.7. Please rely on the official version of six (https://pypi.org/project/six/).\n",
            "  \"(https://pypi.org/project/six/).\", FutureWarning)\n",
            "/usr/local/lib/python3.7/dist-packages/sklearn/utils/deprecation.py:144: FutureWarning: The sklearn.neighbors.base module is  deprecated in version 0.22 and will be removed in version 0.24. The corresponding classes / functions should instead be imported from sklearn.neighbors. Anything that cannot be imported from sklearn.neighbors is now part of the private API.\n",
            "  warnings.warn(message, FutureWarning)\n"
          ],
          "name": "stderr"
        }
      ]
    },
    {
      "cell_type": "code",
      "metadata": {
        "colab": {
          "base_uri": "https://localhost:8080/"
        },
        "id": "cIU1uIFXhrxQ",
        "outputId": "d1fdc2d6-f6b3-4a31-d764-134f001b3642"
      },
      "source": [
        "from google.colab import drive\n",
        "drive.mount(\"Drive\")"
      ],
      "execution_count": 3,
      "outputs": [
        {
          "output_type": "stream",
          "text": [
            "Drive already mounted at Drive; to attempt to forcibly remount, call drive.mount(\"Drive\", force_remount=True).\n"
          ],
          "name": "stdout"
        }
      ]
    },
    {
      "cell_type": "code",
      "metadata": {
        "id": "HkZ5S8DahkZf"
      },
      "source": [
        "train_transaction_data = pd.read_csv(\"Drive/MyDrive/job/Upskill/test/train_transaction.csv\")\n",
        "train_identity_data = pd.read_csv(\"Drive/MyDrive/job/Upskill/test/train_identity.csv\")\n",
        "test_transaction_data = pd.read_csv(\"Drive/MyDrive/job/Upskill/test/test_transaction.csv\")\n",
        "test_identity_data = pd.read_csv(\"Drive/MyDrive/job/Upskill/test/test_identity.csv\")"
      ],
      "execution_count": 4,
      "outputs": []
    },
    {
      "cell_type": "code",
      "metadata": {
        "id": "fERvQVeF2W1q"
      },
      "source": [
        "sample_submission = pd.read_csv(\"Drive/MyDrive/job/Upskill/test/sample_submission.csv\")"
      ],
      "execution_count": 5,
      "outputs": []
    },
    {
      "cell_type": "code",
      "metadata": {
        "id": "T8of8lNqhkZg"
      },
      "source": [
        "train_data = train_transaction_data.merge(train_identity_data, how=\"left\", on=\"TransactionID\")\n",
        "test_data = test_transaction_data.merge(test_identity_data, how=\"left\", on=\"TransactionID\")\n",
        "\n",
        "del train_transaction_data, train_identity_data, test_transaction_data, test_identity_data"
      ],
      "execution_count": 6,
      "outputs": []
    },
    {
      "cell_type": "code",
      "metadata": {
        "id": "O8Z3uWsVhkZg"
      },
      "source": [
        "test_data.rename({'id-01':'id_01','id-02':'id_02','id-03':'id_03','id-04':'id_04','id-05':'id_05','id-06':'id_06','id-07':'id_07','id-08':'id_08','id-09':'id_09','id-10':'id_10','id-11':'id_11','id-12':'id_12','id-13':'id_13','id-14':'id_14','id-15':'id_15','id-16':'id_16','id-17':'id_17','id-18':'id_18','id-19':'id_19','id-20':'id_20','id-21':'id_21','id-22':'id_22','id-23':'id_23','id-24':'id_24','id-25':'id_25','id-26':'id_26','id-27':'id_27','id-28':'id_28','id-29':'id_29','id-30':'id_30','id-31':'id_31', 'id-32':'id_32', 'id-33':'id_33', 'id-34':'id_34', 'id-35':'id_35', 'id-36':'id_36', 'id-37':'id_37', 'id-38':'id_38'}, axis=1, inplace=True)"
      ],
      "execution_count": 7,
      "outputs": []
    },
    {
      "cell_type": "code",
      "metadata": {
        "colab": {
          "base_uri": "https://localhost:8080/"
        },
        "id": "zUO2ytvphkZh",
        "outputId": "63b58555-0d16-41e5-a2da-9620a96c46de"
      },
      "source": [
        "print(train_data.info())\n",
        "print(test_data.info())"
      ],
      "execution_count": 8,
      "outputs": [
        {
          "output_type": "stream",
          "text": [
            "<class 'pandas.core.frame.DataFrame'>\n",
            "Int64Index: 590540 entries, 0 to 590539\n",
            "Columns: 434 entries, TransactionID to DeviceInfo\n",
            "dtypes: float64(399), int64(4), object(31)\n",
            "memory usage: 1.9+ GB\n",
            "None\n",
            "<class 'pandas.core.frame.DataFrame'>\n",
            "Int64Index: 506691 entries, 0 to 506690\n",
            "Columns: 433 entries, TransactionID to DeviceInfo\n",
            "dtypes: float64(399), int64(3), object(31)\n",
            "memory usage: 1.6+ GB\n",
            "None\n"
          ],
          "name": "stdout"
        }
      ]
    },
    {
      "cell_type": "code",
      "metadata": {
        "colab": {
          "base_uri": "https://localhost:8080/"
        },
        "id": "8j1H1VAwhkZi",
        "outputId": "6ea925a8-a591-4768-9b5c-e3433ef79a1e"
      },
      "source": [
        "def getnulls(data): \n",
        " total = data.isnull().sum().sort_values(ascending=False) \n",
        " percent = (data.isnull().sum() / data.isnull().count()).sort_values(ascending=False)\n",
        " missing_data = pd.concat([total, percent], axis=1, keys=['total', 'percent']) \n",
        " return missing_data \n",
        "missing_data_train = getnulls(train_data) \n",
        "#missing_data_train.head()\n",
        "print(missing_data_train)"
      ],
      "execution_count": 9,
      "outputs": [
        {
          "output_type": "stream",
          "text": [
            "                total   percent\n",
            "id_24          585793  0.991962\n",
            "id_25          585408  0.991310\n",
            "id_07          585385  0.991271\n",
            "id_08          585385  0.991271\n",
            "id_21          585381  0.991264\n",
            "...               ...       ...\n",
            "C11                 0  0.000000\n",
            "C12                 0  0.000000\n",
            "C13                 0  0.000000\n",
            "C14                 0  0.000000\n",
            "TransactionID       0  0.000000\n",
            "\n",
            "[434 rows x 2 columns]\n"
          ],
          "name": "stdout"
        }
      ]
    },
    {
      "cell_type": "code",
      "metadata": {
        "colab": {
          "base_uri": "https://localhost:8080/"
        },
        "id": "7lwVcjOGhkZi",
        "outputId": "ff2fe688-ffeb-4d81-c5ab-e16da2aff466"
      },
      "source": [
        "print(missing_data_train.index)"
      ],
      "execution_count": 10,
      "outputs": [
        {
          "output_type": "stream",
          "text": [
            "Index(['id_24', 'id_25', 'id_07', 'id_08', 'id_21', 'id_26', 'id_22', 'id_23',\n",
            "       'id_27', 'dist2',\n",
            "       ...\n",
            "       'C5', 'C6', 'C7', 'C8', 'C10', 'C11', 'C12', 'C13', 'C14',\n",
            "       'TransactionID'],\n",
            "      dtype='object', length=434)\n"
          ],
          "name": "stdout"
        }
      ]
    },
    {
      "cell_type": "code",
      "metadata": {
        "colab": {
          "base_uri": "https://localhost:8080/"
        },
        "id": "O8A91ZanhkZl",
        "outputId": "78d9d480-0bd5-424a-ad21-1179e6496319"
      },
      "source": [
        "print(len(train_data[\"id_24\"].isnull()))"
      ],
      "execution_count": 11,
      "outputs": [
        {
          "output_type": "stream",
          "text": [
            "590540\n"
          ],
          "name": "stdout"
        }
      ]
    },
    {
      "cell_type": "code",
      "metadata": {
        "colab": {
          "base_uri": "https://localhost:8080/"
        },
        "id": "L1sUw_LShkZm",
        "outputId": "c18d7b6c-c6e0-4ec3-89db-1535edd82e53"
      },
      "source": [
        "#correlation\n",
        "\n",
        "corr = abs(train_data[train_data.columns[1:]].corr()[\"isFraud\"][:-1]).sort_values(ascending = False)\n",
        "print(corr)"
      ],
      "execution_count": 12,
      "outputs": [
        {
          "output_type": "stream",
          "text": [
            "isFraud    1.000000\n",
            "V257       0.383060\n",
            "V246       0.366878\n",
            "V244       0.364129\n",
            "V242       0.360590\n",
            "             ...   \n",
            "V299       0.000308\n",
            "V135       0.000276\n",
            "V137       0.000115\n",
            "V319       0.000061\n",
            "V136       0.000042\n",
            "Name: isFraud, Length: 401, dtype: float64\n"
          ],
          "name": "stdout"
        }
      ]
    },
    {
      "cell_type": "code",
      "metadata": {
        "colab": {
          "base_uri": "https://localhost:8080/"
        },
        "id": "lt9x3mxPhkZm",
        "outputId": "3741a319-a925-46bc-b3f5-05e12faf7375"
      },
      "source": [
        "print(len(train_data[train_data[\"isFraud\"] == 1]) / len(train_data[train_data[\"isFraud\"] == 0]), len(train_data[train_data[\"isFraud\"] == 1]), len(train_data[train_data[\"isFraud\"] == 0]))"
      ],
      "execution_count": 13,
      "outputs": [
        {
          "output_type": "stream",
          "text": [
            "0.03625870143908247 20663 569877\n"
          ],
          "name": "stdout"
        }
      ]
    },
    {
      "cell_type": "code",
      "metadata": {
        "colab": {
          "base_uri": "https://localhost:8080/"
        },
        "id": "SuvRcNzghkZm",
        "outputId": "ad3e0be7-e1a1-4e9b-f7e9-a0c39841fe59"
      },
      "source": [
        "print(train_data[train_data[\"isFraud\"] == 1].isnull().sum().sort_values(ascending = False))\n",
        "print(train_data[train_data[\"isFraud\"] == 0].isnull().sum().sort_values(ascending = False))\n",
        "print((train_data[train_data[\"isFraud\"] == 1].isnull().sum() / train_data[train_data[\"isFraud\"] == 0].isnull().sum()).sort_values(ascending = False))\n",
        "\n",
        "train_data_fraud_count = train_data[train_data[\"isFraud\"] == 1].isnull().sum().sort_values(ascending = False) / train_data[train_data[\"isFraud\"] == 0].isnull().sum()\n",
        "train_data_fraud_count = train_data_fraud_count.sort_values(ascending=False)"
      ],
      "execution_count": 14,
      "outputs": [
        {
          "output_type": "stream",
          "text": [
            "id_24            20261\n",
            "id_25            20246\n",
            "id_26            20238\n",
            "id_08            20237\n",
            "id_21            20237\n",
            "                 ...  \n",
            "C11                  0\n",
            "C12                  0\n",
            "C13                  0\n",
            "C14                  0\n",
            "TransactionID        0\n",
            "Length: 434, dtype: int64\n",
            "id_24            565532\n",
            "id_25            565162\n",
            "id_07            565148\n",
            "id_08            565148\n",
            "id_21            565144\n",
            "                  ...  \n",
            "C11                   0\n",
            "C12                   0\n",
            "C13                   0\n",
            "C14                   0\n",
            "TransactionID         0\n",
            "Length: 434, dtype: int64\n",
            "V316    0.2\n",
            "V293    0.2\n",
            "V295    0.2\n",
            "V297    0.2\n",
            "V298    0.2\n",
            "       ... \n",
            "C10     NaN\n",
            "C11     NaN\n",
            "C12     NaN\n",
            "C13     NaN\n",
            "C14     NaN\n",
            "Length: 434, dtype: float64\n"
          ],
          "name": "stdout"
        }
      ]
    },
    {
      "cell_type": "code",
      "metadata": {
        "id": "CGgJlSc7hkZn"
      },
      "source": [
        "dropped_cols = []\n",
        "for index, row in missing_data_train.iterrows():\n",
        "    try:\n",
        "\n",
        "        if((row[\"percent\"] > .3 and train_data_fraud_count[index] >= 0.025 and train_data_fraud_count[index] <= .045) or corr[index] < 0.02):\n",
        "            dropped_cols.append(index)\n",
        "    \n",
        "    except:\n",
        "        if((row[\"percent\"] > .3 and train_data_fraud_count[index] >= 0.025 and train_data_fraud_count[index] <= .045)):\n",
        "            dropped_cols.append(index)"
      ],
      "execution_count": 15,
      "outputs": []
    },
    {
      "cell_type": "code",
      "metadata": {
        "colab": {
          "base_uri": "https://localhost:8080/"
        },
        "id": "qZRFQhtZhkZo",
        "outputId": "44f9d51c-c64a-4d0b-afc6-7cae695c6b41"
      },
      "source": [
        "print(dropped_cols)\n",
        "print(len(dropped_cols))"
      ],
      "execution_count": 16,
      "outputs": [
        {
          "output_type": "stream",
          "text": [
            "['id_24', 'id_25', 'id_07', 'id_08', 'id_21', 'id_26', 'id_22', 'id_23', 'id_27', 'dist2', 'D7', 'id_18', 'D13', 'D14', 'D12', 'id_04', 'id_03', 'D6', 'id_33', 'id_10', 'D8', 'D9', 'id_09', 'id_30', 'id_32', 'id_34', 'id_14', 'V149', 'V153', 'V156', 'V154', 'V155', 'V157', 'V158', 'V161', 'V163', 'V147', 'V148', 'V162', 'V146', 'V138', 'V139', 'V140', 'V141', 'V142', 'V166', 'V164', 'V160', 'V159', 'V143', 'V144', 'V145', 'V152', 'V151', 'V150', 'V165', 'V339', 'V322', 'V338', 'V337', 'V336', 'V335', 'V334', 'V333', 'V332', 'V331', 'V330', 'V329', 'V328', 'V327', 'V326', 'V325', 'V324', 'V323', 'DeviceInfo', 'id_13', 'V267', 'V266', 'V265', 'V264', 'V263', 'V269', 'V253', 'V241', 'V240', 'V268', 'V226', 'V278', 'V223', 'V224', 'V277', 'V275', 'V274', 'V273', 'V225', 'V276', 'id_05', 'V202', 'V207', 'V203', 'V214', 'V211', 'V215', 'V216', 'V168', 'V206', 'V182', 'V183', 'V178', 'V177', 'V167', 'V179', 'V205', 'V192', 'V172', 'V174', 'V175', 'V180', 'V208', 'V209', 'V210', 'id_11', 'V270', 'V234', 'V227', 'M5', 'D5', 'V1', 'V2', 'V4', 'V6', 'V8', 'D3', 'V41', 'V89', 'V88', 'V65', 'V68', 'V14', 'V27', 'V26', 'V25', 'V28', 'addr1', 'card2', 'V296', 'V95', 'V96', 'V106', 'V107', 'V105', 'V137', 'V104', 'V103', 'V102', 'V101', 'V100', 'V99', 'V97', 'V136', 'V135', 'V134', 'V133', 'V132', 'V130', 'V129', 'V128', 'V127', 'V126', 'V122', 'V121', 'V120', 'V280', 'V293', 'V294', 'V295', 'V297', 'V298', 'V299', 'V321', 'V286', 'V285', 'V279', 'V305', 'V320', 'V319', 'V318', 'V317', 'V316', 'V311', 'V310', 'V308', 'V307', 'V306', 'card1', 'TransactionAmt', 'TransactionDT', 'C3', 'C13', 'C14']\n",
            "200\n"
          ],
          "name": "stdout"
        }
      ]
    },
    {
      "cell_type": "code",
      "metadata": {
        "id": "LHeHXzfChkZo"
      },
      "source": [
        "train_data.drop(dropped_cols, axis =  1, inplace = True)\n",
        "test_data.drop(dropped_cols, axis =  1, inplace = True)"
      ],
      "execution_count": 17,
      "outputs": []
    },
    {
      "cell_type": "code",
      "metadata": {
        "colab": {
          "base_uri": "https://localhost:8080/"
        },
        "id": "bS2lTeaVhkZo",
        "outputId": "4dfe700f-77be-4410-e31f-91955a976c3e"
      },
      "source": [
        "print(train_data.shape)\n",
        "print(test_data.shape)"
      ],
      "execution_count": 18,
      "outputs": [
        {
          "output_type": "stream",
          "text": [
            "(590540, 234)\n",
            "(506691, 233)\n"
          ],
          "name": "stdout"
        }
      ]
    },
    {
      "cell_type": "code",
      "metadata": {
        "id": "Xl--bCg9hkZo"
      },
      "source": [
        "#correlation among features\n",
        "\n",
        "feature_correlation = train_data.corr()"
      ],
      "execution_count": 19,
      "outputs": []
    },
    {
      "cell_type": "code",
      "metadata": {
        "colab": {
          "base_uri": "https://localhost:8080/",
          "height": 344
        },
        "id": "Vvd02cPghkZp",
        "outputId": "2b4b3e1b-b56f-45e9-f492-b75905f8099c"
      },
      "source": [
        "sns.heatmap(feature_correlation)"
      ],
      "execution_count": 20,
      "outputs": [
        {
          "output_type": "execute_result",
          "data": {
            "text/plain": [
              "<matplotlib.axes._subplots.AxesSubplot at 0x7f71dcc6e910>"
            ]
          },
          "metadata": {
            "tags": []
          },
          "execution_count": 20
        },
        {
          "output_type": "display_data",
          "data": {
            "image/png": "[encoded data removed]",
            "text/plain": [
              "<Figure size 432x288 with 2 Axes>"
            ]
          },
          "metadata": {
            "tags": [],
            "needs_background": "light"
          }
        }
      ]
    },
    {
      "cell_type": "code",
      "metadata": {
        "id": "5dNIRq8thkZp"
      },
      "source": [
        "feature_correlation.to_excel(\"feature_correlation.xlsx\")"
      ],
      "execution_count": null,
      "outputs": []
    },
    {
      "cell_type": "code",
      "metadata": {
        "id": "Lt5pEPXxhkZp"
      },
      "source": [
        "train_data[0:1000].to_excel(\"Cleaned_train_data.xlsx\")"
      ],
      "execution_count": null,
      "outputs": []
    },
    {
      "cell_type": "code",
      "metadata": {
        "colab": {
          "base_uri": "https://localhost:8080/"
        },
        "id": "Szg0fZRVhkZp",
        "outputId": "d8d67110-7c1f-43c4-f17b-d9aa4eda08bb"
      },
      "source": [
        "train_data.info()"
      ],
      "execution_count": 21,
      "outputs": [
        {
          "output_type": "stream",
          "text": [
            "<class 'pandas.core.frame.DataFrame'>\n",
            "Int64Index: 590540 entries, 0 to 590539\n",
            "Columns: 234 entries, TransactionID to DeviceType\n",
            "dtypes: float64(208), int64(2), object(24)\n",
            "memory usage: 1.0+ GB\n"
          ],
          "name": "stdout"
        }
      ]
    },
    {
      "cell_type": "code",
      "metadata": {
        "colab": {
          "base_uri": "https://localhost:8080/"
        },
        "id": "JwAt3WGxhkZq",
        "outputId": "e58b6b8a-c2aa-41f3-f116-01324f908201"
      },
      "source": [
        "test_data.info()"
      ],
      "execution_count": 22,
      "outputs": [
        {
          "output_type": "stream",
          "text": [
            "<class 'pandas.core.frame.DataFrame'>\n",
            "Int64Index: 506691 entries, 0 to 506690\n",
            "Columns: 233 entries, TransactionID to DeviceType\n",
            "dtypes: float64(208), int64(1), object(24)\n",
            "memory usage: 904.6+ MB\n"
          ],
          "name": "stdout"
        }
      ]
    },
    {
      "cell_type": "code",
      "metadata": {
        "id": "wFarK40FhkZq"
      },
      "source": [
        "# Select categorical columns\n",
        "categorical_cols = [cname for cname in test_data.columns if\n",
        "                   test_data[cname].dtype == \"object\"]\n",
        "\n",
        "# Select numerical columns\n",
        "numerical_cols = [cname for cname in test_data.columns if \n",
        "                  test_data[cname].dtype != \"object\"]"
      ],
      "execution_count": 23,
      "outputs": []
    },
    {
      "cell_type": "code",
      "metadata": {
        "id": "RHPRFg6ZhkZq"
      },
      "source": [
        "# Preprocessing for numerical data\n",
        "numerical_transformer = Pipeline(steps=[('imputer', SimpleImputer(strategy='median', fill_value=\"missing\")), ('scale', StandardScaler())])\n",
        "\n",
        "# Preprocessing for categorical data (onehot)\n",
        "categorical_transformer_onehot = Pipeline(steps=[\n",
        "    ('imputer', SimpleImputer(strategy='most_frequent', fill_value='missing')),\n",
        "    ('onehot', OneHotEncoder(dtype = np.int8, handle_unknown='ignore'))])\n",
        "\n",
        "# Preprocessing for categorical data (labelencoder)\n",
        "categorical_transformer_ordinal = Pipeline(steps=[\n",
        "    ('imputer', SimpleImputer(strategy='constant')),\n",
        "    ('ordinal', OrdinalEncoder(dtype = np.int8))])\n",
        "\n",
        "# Bundle preprocessing for numerical and categorical data\n",
        "preprocessor_onehot = ColumnTransformer(\n",
        "    transformers=[\n",
        "        ('num', numerical_transformer, numerical_cols),\n",
        "        ('cat', categorical_transformer_onehot, categorical_cols)\n",
        "    ])\n",
        "\n",
        "preprocessor_label = ColumnTransformer(\n",
        "    transformers=[\n",
        "        ('num', numerical_transformer, numerical_cols),\n",
        "        ('cat', categorical_transformer_ordinal, categorical_cols)\n",
        "    ])"
      ],
      "execution_count": 24,
      "outputs": []
    },
    {
      "cell_type": "code",
      "metadata": {
        "colab": {
          "base_uri": "https://localhost:8080/"
        },
        "id": "SjxftsFuhkZr",
        "outputId": "0cf07c88-95a0-4d0f-db86-a7e54ef28eb1"
      },
      "source": [
        "#separating train data and target\n",
        "\n",
        "Y = train_data['isFraud'].copy()\n",
        "train_data.drop('isFraud', axis=1, inplace = True)\n",
        "\n",
        "print(train_data)\n",
        "print(Y)"
      ],
      "execution_count": 25,
      "outputs": [
        {
          "output_type": "stream",
          "text": [
            "        TransactionID ProductCD  card3  ... id_37  id_38 DeviceType\n",
            "0             2987000         W  150.0  ...   NaN    NaN        NaN\n",
            "1             2987001         W  150.0  ...   NaN    NaN        NaN\n",
            "2             2987002         W  150.0  ...   NaN    NaN        NaN\n",
            "3             2987003         W  150.0  ...   NaN    NaN        NaN\n",
            "4             2987004         H  150.0  ...     T      T     mobile\n",
            "...               ...       ...    ...  ...   ...    ...        ...\n",
            "590535        3577535         W  150.0  ...   NaN    NaN        NaN\n",
            "590536        3577536         W  150.0  ...   NaN    NaN        NaN\n",
            "590537        3577537         W  150.0  ...   NaN    NaN        NaN\n",
            "590538        3577538         W  150.0  ...   NaN    NaN        NaN\n",
            "590539        3577539         W  150.0  ...   NaN    NaN        NaN\n",
            "\n",
            "[590540 rows x 233 columns]\n",
            "0         0\n",
            "1         0\n",
            "2         0\n",
            "3         0\n",
            "4         0\n",
            "         ..\n",
            "590535    0\n",
            "590536    0\n",
            "590537    0\n",
            "590538    0\n",
            "590539    0\n",
            "Name: isFraud, Length: 590540, dtype: int64\n"
          ],
          "name": "stdout"
        }
      ]
    },
    {
      "cell_type": "code",
      "metadata": {
        "id": "erCVEQp9hkZr"
      },
      "source": [
        "X_train, X_val, Y_train, Y_val = train_test_split(train_data, Y, test_size=0.2, train_size=0.8, random_state=0)\n",
        "X_train = preprocessor_label.fit_transform(X_train)\n",
        "X_val = preprocessor_label.fit_transform(X_val)\n"
      ],
      "execution_count": 26,
      "outputs": []
    },
    {
      "cell_type": "code",
      "metadata": {
        "id": "bEyR3I7KhkZs"
      },
      "source": [
        "del train_data, Y"
      ],
      "execution_count": null,
      "outputs": []
    },
    {
      "cell_type": "code",
      "metadata": {
        "id": "x02YaikXhkZs",
        "colab": {
          "base_uri": "https://localhost:8080/"
        },
        "outputId": "c7cf6fd8-a041-410c-f5c0-3bf448e11279"
      },
      "source": [
        "print(X_train.shape)"
      ],
      "execution_count": 27,
      "outputs": [
        {
          "output_type": "stream",
          "text": [
            "(472432, 233)\n"
          ],
          "name": "stdout"
        }
      ]
    },
    {
      "cell_type": "code",
      "metadata": {
        "colab": {
          "base_uri": "https://localhost:8080/"
        },
        "id": "m7AButGChkZs",
        "outputId": "113f8294-d3be-4b8f-9771-c8575d051da9"
      },
      "source": [
        "oversampling = over_sampling.RandomOverSampler(sampling_strategy=0.1)\n",
        "\n",
        "steps = [('o', oversampling)]\n",
        "\n",
        "pipeline = Pipeline(steps=steps)\n",
        "X_train_oversample, Y_train_oversample = pipeline.fit_resample(X_train, Y_train.ravel())"
      ],
      "execution_count": 28,
      "outputs": [
        {
          "output_type": "stream",
          "text": [
            "/usr/local/lib/python3.7/dist-packages/sklearn/utils/deprecation.py:87: FutureWarning: Function safe_indexing is deprecated; safe_indexing is deprecated in version 0.22 and will be removed in version 0.24.\n",
            "  warnings.warn(msg, category=FutureWarning)\n"
          ],
          "name": "stderr"
        }
      ]
    },
    {
      "cell_type": "code",
      "metadata": {
        "id": "Km3pe-y9jsU7",
        "colab": {
          "base_uri": "https://localhost:8080/"
        },
        "outputId": "102e502c-ecf6-4cd3-9b03-b15a4a621209"
      },
      "source": [
        "model = XGBClassifier(n_estimators=200,\n",
        "    max_depth=50,\n",
        "    learning_rate=0.05,\n",
        "    subsample=0.9,\n",
        "    colsample_bytree=0.9,\n",
        "    missing=-999,\n",
        "    random_state=2020)\n",
        "model.fit(X_train, Y_train, verbose=True)\n"
      ],
      "execution_count": 29,
      "outputs": [
        {
          "output_type": "execute_result",
          "data": {
            "text/plain": [
              "XGBClassifier(base_score=0.5, booster='gbtree', colsample_bylevel=1,\n",
              "              colsample_bynode=1, colsample_bytree=0.9, gamma=0,\n",
              "              learning_rate=0.05, max_delta_step=0, max_depth=50,\n",
              "              min_child_weight=1, missing=-999, n_estimators=200, n_jobs=1,\n",
              "              nthread=None, objective='binary:logistic', random_state=2020,\n",
              "              reg_alpha=0, reg_lambda=1, scale_pos_weight=1, seed=None,\n",
              "              silent=None, subsample=0.9, verbosity=1)"
            ]
          },
          "metadata": {
            "tags": []
          },
          "execution_count": 29
        }
      ]
    },
    {
      "cell_type": "code",
      "metadata": {
        "id": "2jtF-lw4juCN"
      },
      "source": [
        "del X_train,Y_train"
      ],
      "execution_count": null,
      "outputs": []
    },
    {
      "cell_type": "code",
      "metadata": {
        "id": "mEsWk0gYoz0z"
      },
      "source": [
        "predict = model.predict(X_val)"
      ],
      "execution_count": 30,
      "outputs": []
    },
    {
      "cell_type": "code",
      "metadata": {
        "id": "wb1lwA1_o3KZ",
        "colab": {
          "base_uri": "https://localhost:8080/"
        },
        "outputId": "d5e04041-b637-4354-818a-1dbf79b739b3"
      },
      "source": [
        "print(f1_score(predict, Y_val))\n",
        "print(roc_auc_score(predict, Y_val))\n",
        "print(accuracy_score(predict, Y_val))"
      ],
      "execution_count": 31,
      "outputs": [
        {
          "output_type": "stream",
          "text": [
            "0.7124689826302729\n",
            "0.9717570844821568\n",
            "0.9843025027940528\n"
          ],
          "name": "stdout"
        }
      ]
    },
    {
      "cell_type": "code",
      "metadata": {
        "id": "E7qXfS8vo6lx"
      },
      "source": [
        "X_test = preprocessor_label.fit_transform(test_data)"
      ],
      "execution_count": 32,
      "outputs": []
    },
    {
      "cell_type": "code",
      "metadata": {
        "id": "Hhhx9a4FpWzD"
      },
      "source": [
        "test_predict = model.predict_proba(X_test)"
      ],
      "execution_count": 33,
      "outputs": []
    },
    {
      "cell_type": "code",
      "metadata": {
        "id": "DMJzdA4lsv2W",
        "colab": {
          "base_uri": "https://localhost:8080/",
          "height": 204
        },
        "outputId": "e11597d1-3457-423f-e905-86ce2ef9a644"
      },
      "source": [
        "submission = pd.DataFrame({\n",
        "    'TransactionID' : sample_submission.TransactionID,\n",
        "    'isFraud' : test_predict[:,1]\n",
        "})\n",
        "submission.head()"
      ],
      "execution_count": 34,
      "outputs": [
        {
          "output_type": "execute_result",
          "data": {
            "text/html": [
              "<div>\n",
              "<style scoped>\n",
              "    .dataframe tbody tr th:only-of-type {\n",
              "        vertical-align: middle;\n",
              "    }\n",
              "\n",
              "    .dataframe tbody tr th {\n",
              "        vertical-align: top;\n",
              "    }\n",
              "\n",
              "    .dataframe thead th {\n",
              "        text-align: right;\n",
              "    }\n",
              "</style>\n",
              "<table border=\"1\" class=\"dataframe\">\n",
              "  <thead>\n",
              "    <tr style=\"text-align: right;\">\n",
              "      <th></th>\n",
              "      <th>TransactionID</th>\n",
              "      <th>isFraud</th>\n",
              "    </tr>\n",
              "  </thead>\n",
              "  <tbody>\n",
              "    <tr>\n",
              "      <th>0</th>\n",
              "      <td>3663549</td>\n",
              "      <td>0.001268</td>\n",
              "    </tr>\n",
              "    <tr>\n",
              "      <th>1</th>\n",
              "      <td>3663550</td>\n",
              "      <td>0.002332</td>\n",
              "    </tr>\n",
              "    <tr>\n",
              "      <th>2</th>\n",
              "      <td>3663551</td>\n",
              "      <td>0.052699</td>\n",
              "    </tr>\n",
              "    <tr>\n",
              "      <th>3</th>\n",
              "      <td>3663552</td>\n",
              "      <td>0.002623</td>\n",
              "    </tr>\n",
              "    <tr>\n",
              "      <th>4</th>\n",
              "      <td>3663553</td>\n",
              "      <td>0.000761</td>\n",
              "    </tr>\n",
              "  </tbody>\n",
              "</table>\n",
              "</div>"
            ],
            "text/plain": [
              "   TransactionID   isFraud\n",
              "0        3663549  0.001268\n",
              "1        3663550  0.002332\n",
              "2        3663551  0.052699\n",
              "3        3663552  0.002623\n",
              "4        3663553  0.000761"
            ]
          },
          "metadata": {
            "tags": []
          },
          "execution_count": 34
        }
      ]
    },
    {
      "cell_type": "code",
      "metadata": {
        "id": "RotwK8YTsxeq"
      },
      "source": [
        "submission.to_csv(\"Drive/MyDrive/job/Upskill/test/submission_tree_7.csv\", index = False)"
      ],
      "execution_count": 35,
      "outputs": []
    },
    {
      "cell_type": "code",
      "metadata": {
        "id": "G3fRTm9D262b",
        "colab": {
          "base_uri": "https://localhost:8080/"
        },
        "outputId": "01306ab6-f600-43a7-b390-e99d3ad422c3"
      },
      "source": [
        "model = XGBClassifier(n_estimators=900,\n",
        "    max_depth=10,\n",
        "    learning_rate=0.05,\n",
        "    subsample=0.9,\n",
        "    colsample_bytree=0.9,\n",
        "    missing=-999,\n",
        "    random_state=2020)\n",
        "model.fit(X_train_oversample, Y_train_oversample)\n"
      ],
      "execution_count": null,
      "outputs": [
        {
          "output_type": "execute_result",
          "data": {
            "text/plain": [
              "XGBClassifier(base_score=0.5, booster='gbtree', colsample_bylevel=1,\n",
              "              colsample_bynode=1, colsample_bytree=0.9, gamma=0,\n",
              "              learning_rate=0.05, max_delta_step=0, max_depth=10,\n",
              "              min_child_weight=1, missing=-999, n_estimators=900, n_jobs=1,\n",
              "              nthread=None, objective='binary:logistic', random_state=2020,\n",
              "              reg_alpha=0, reg_lambda=1, scale_pos_weight=1, seed=None,\n",
              "              silent=None, subsample=0.9, verbosity=1)"
            ]
          },
          "metadata": {
            "tags": []
          },
          "execution_count": 41
        }
      ]
    },
    {
      "cell_type": "code",
      "metadata": {
        "id": "sfLY6c-R4eFd"
      },
      "source": [
        "predict = model.predict(X_val)"
      ],
      "execution_count": null,
      "outputs": []
    },
    {
      "cell_type": "code",
      "metadata": {
        "id": "1L-B1crO4frt",
        "colab": {
          "base_uri": "https://localhost:8080/"
        },
        "outputId": "339311e2-0e40-4d42-940f-611c64c27b66"
      },
      "source": [
        "print(f1_score(predict, Y_val))\n",
        "print(roc_auc_score(predict, Y_val))\n",
        "print(accuracy_score(predict, Y_val))"
      ],
      "execution_count": null,
      "outputs": [
        {
          "output_type": "stream",
          "text": [
            "0.7175885279484929\n",
            "0.933753293713705\n",
            "0.9836590239441867\n"
          ],
          "name": "stdout"
        }
      ]
    },
    {
      "cell_type": "code",
      "metadata": {
        "id": "emfWwdSf4njv"
      },
      "source": [
        "X_test = preprocessor_label.fit_transform(test_data)"
      ],
      "execution_count": null,
      "outputs": []
    },
    {
      "cell_type": "code",
      "metadata": {
        "id": "aB9H5V9C5BxS"
      },
      "source": [
        "test_predict = model.predict_proba(X_test)"
      ],
      "execution_count": null,
      "outputs": []
    },
    {
      "cell_type": "code",
      "metadata": {
        "id": "5VivzMni5hO3",
        "colab": {
          "base_uri": "https://localhost:8080/",
          "height": 204
        },
        "outputId": "b935d37f-9188-4d75-f9df-3d0fc497ab6e"
      },
      "source": [
        "submission_2 = pd.DataFrame({\n",
        "    'TransactionID' : sample_submission.TransactionID,\n",
        "    'isFraud' : test_predict[:,1]\n",
        "})\n",
        "submission_2.head()"
      ],
      "execution_count": null,
      "outputs": [
        {
          "output_type": "execute_result",
          "data": {
            "text/html": [
              "<div>\n",
              "<style scoped>\n",
              "    .dataframe tbody tr th:only-of-type {\n",
              "        vertical-align: middle;\n",
              "    }\n",
              "\n",
              "    .dataframe tbody tr th {\n",
              "        vertical-align: top;\n",
              "    }\n",
              "\n",
              "    .dataframe thead th {\n",
              "        text-align: right;\n",
              "    }\n",
              "</style>\n",
              "<table border=\"1\" class=\"dataframe\">\n",
              "  <thead>\n",
              "    <tr style=\"text-align: right;\">\n",
              "      <th></th>\n",
              "      <th>TransactionID</th>\n",
              "      <th>isFraud</th>\n",
              "    </tr>\n",
              "  </thead>\n",
              "  <tbody>\n",
              "    <tr>\n",
              "      <th>0</th>\n",
              "      <td>3663549</td>\n",
              "      <td>0.000857</td>\n",
              "    </tr>\n",
              "    <tr>\n",
              "      <th>1</th>\n",
              "      <td>3663550</td>\n",
              "      <td>0.001187</td>\n",
              "    </tr>\n",
              "    <tr>\n",
              "      <th>2</th>\n",
              "      <td>3663551</td>\n",
              "      <td>0.013556</td>\n",
              "    </tr>\n",
              "    <tr>\n",
              "      <th>3</th>\n",
              "      <td>3663552</td>\n",
              "      <td>0.001123</td>\n",
              "    </tr>\n",
              "    <tr>\n",
              "      <th>4</th>\n",
              "      <td>3663553</td>\n",
              "      <td>0.000230</td>\n",
              "    </tr>\n",
              "  </tbody>\n",
              "</table>\n",
              "</div>"
            ],
            "text/plain": [
              "   TransactionID   isFraud\n",
              "0        3663549  0.000857\n",
              "1        3663550  0.001187\n",
              "2        3663551  0.013556\n",
              "3        3663552  0.001123\n",
              "4        3663553  0.000230"
            ]
          },
          "metadata": {
            "tags": []
          },
          "execution_count": 46
        }
      ]
    },
    {
      "cell_type": "code",
      "metadata": {
        "id": "IOikGFT-H1uA"
      },
      "source": [
        "submission_2.to_csv(\"Drive/MyDrive/job/Upskill/test/submission_tree_6.csv\", index = False)"
      ],
      "execution_count": null,
      "outputs": []
    },
    {
      "cell_type": "code",
      "metadata": {
        "id": "mKz1Ey11I5nm"
      },
      "source": [
        ""
      ],
      "execution_count": null,
      "outputs": []
    }
  ]
}